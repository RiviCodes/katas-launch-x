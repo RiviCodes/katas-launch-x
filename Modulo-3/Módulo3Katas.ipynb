{
 "cells": [
  {
   "cell_type": "code",
   "execution_count": null,
   "metadata": {},
   "outputs": [],
   "source": []
  },
  {
   "cell_type": "code",
   "execution_count": 1,
   "metadata": {},
   "outputs": [
    {
     "name": "stdout",
     "output_type": "stream",
     "text": [
      "Un asteroide se acerca. Viaja a una velocidad de 49 km/s. ADVERTENCIA!\n"
     ]
    }
   ],
   "source": [
    "vel_limite = 25\n",
    "vel_asteroide = 49\n",
    "\n",
    "if vel_asteroide >= vel_limite:\n",
    "  print('Un asteroide se acerca. Viaja a una velocidad de', vel_asteroide, 'km/s. ¡ADVERTENCIA!')\n",
    "else:\n",
    "  print('Un asteroide se acerca, su velocidad (', vel_asteroide, ') no representa peligro.')"
   ]
  },
  {
   "cell_type": "code",
   "execution_count": null,
   "metadata": {},
   "outputs": [],
   "source": [
    "vel_min = 20\n",
    "vel_asteroide = 19\n",
    "\n",
    "if vel_asteroide >= vel_limite:\n",
    "  print('¡Atención! Busquen en el cielo un rayo de luz. ¡Un asteroide se dirige a la tierra ahora a una velocidad de', vel_asteroide, 'km/s!')\n",
    "elif vel_asteroide < vel_limite:\n",
    "  print('La velocidad del asteroide es muy baja, no representa peligro.')\n",
    "else:\n",
    "  print('ERROR')"
   ]
  },
  {
   "cell_type": "code",
   "execution_count": 3,
   "metadata": {},
   "outputs": [
    {
     "name": "stdout",
     "output_type": "stream",
     "text": [
      "La velocidad del asteroide es de 50 km/s. ADVERTENCIA\n",
      "El asteroide tiene una dimensión de 300 metros, tendrá impacto en la Tierra generando daños\n"
     ]
    }
   ],
   "source": [
    "vel_rayo_luz = 20\n",
    "vel_advertencia = 25\n",
    "vel_asteroide = 50 # TEST\n",
    "dim_min = 25\n",
    "dim_max = 1000\n",
    "dim_asteroide = 300 # TEST\n",
    "\n",
    "if vel_asteroide >= vel_advertencia:\n",
    "  if dim_asteroide < dim_min:\n",
    "    print('La velocidad del asteroide es de', vel_asteroide,'km/s. ADVERTENCIA')\n",
    "    print('El asteroide se desintegrará ya que su dimensión es de', dim_asteroide)\n",
    "  elif dim_asteroide >= dim_min and dim_asteroide <= dim_max:\n",
    "    print('La velocidad del asteroide es de', vel_asteroide,'km/s. ADVERTENCIA')\n",
    "    print('El asteroide tiene una dimensión de', dim_asteroide, 'metros, tendrá impacto en la Tierra generando daños')\n",
    "elif vel_asteroide >= vel_rayo_luz:\n",
    "  if dim_asteroide < dim_min:\n",
    "    print('La velocidad del asteroide es de', vel_asteroide,'km/s. Podran verse rayos de luz en el cielo!')\n",
    "    print('El asteroide se desintegrará ya que su dimensión es de', dim_asteroide)\n",
    "  elif dim_asteroide >= dim_min and dim_asteroide <= dim_max:\n",
    "    print('La velocidad del asteroide es de', vel_asteroide,'km/s. Podran verse rayos de luz en el cielo!')\n",
    "    print('El asteroide tiene una dimensión de', dim_asteroide, 'metros, tendrá impacto en la Tierra generando daños')\n",
    "elif vel_asteroide < vel_rayo_luz:\n",
    "  if dim_asteroide < dim_min:\n",
    "    print('La velocidad del asteroide es de', vel_asteroide,'km/s. No representa peligro.')\n",
    "    print('El asteroide se desintegrará ya que su dimensión es de', dim_asteroide)\n",
    "  elif dim_asteroide >= dim_min and dim_asteroide <= dim_max:\n",
    "    print('La velocidad del asteroide es de', vel_asteroide,'km/s. No representa peligro.')\n",
    "    print('El asteroide tiene una dimensión de', dim_asteroide, 'metros, tendrá impacto en la Tierra generando daños')\n",
    "else:\n",
    "  print('ERROR')"
   ]
  }
 ],
 "metadata": {
  "interpreter": {
   "hash": "aee8b7b246df8f9039afb4144a1f6fd8d2ca17a180786b69acc140d282b71a49"
  },
  "kernelspec": {
   "display_name": "Python 3.10.1 64-bit",
   "language": "python",
   "name": "python3"
  },
  "language_info": {
   "codemirror_mode": {
    "name": "ipython",
    "version": 3
   },
   "file_extension": ".py",
   "mimetype": "text/x-python",
   "name": "python",
   "nbconvert_exporter": "python",
   "pygments_lexer": "ipython3",
   "version": "3.10.1"
  },
  "orig_nbformat": 4
 },
 "nbformat": 4,
 "nbformat_minor": 2
}
