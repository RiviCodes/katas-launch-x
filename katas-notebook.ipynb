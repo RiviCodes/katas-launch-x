{
 "cells": [
  {
   "cell_type": "markdown",
   "metadata": {},
   "source": [
    "# > Módulo 0 - Katas"
   ]
  },
  {
   "cell_type": "markdown",
   "metadata": {},
   "source": [
    "## Ejercicio: crea y ejecuta tu notebook\n",
    "\n",
    "Primero instalamos la biblioteca:"
   ]
  },
  {
   "cell_type": "code",
   "execution_count": 1,
   "metadata": {},
   "outputs": [],
   "source": [
    "# pip install ipywidgets"
   ]
  },
  {
   "cell_type": "code",
   "execution_count": 2,
   "metadata": {},
   "outputs": [
    {
     "data": {
      "application/vnd.jupyter.widget-view+json": {
       "model_id": "bb1d401af6134249aca1572a79e57316",
       "version_major": 2,
       "version_minor": 0
      },
      "text/plain": [
       "ToggleButton(value=False, button_style='success', description='Iniciar Launch', icon='rocket', tooltip='Engage…"
      ]
     },
     "metadata": {},
     "output_type": "display_data"
    },
    {
     "data": {
      "application/vnd.jupyter.widget-view+json": {
       "model_id": "754352ca5e9b4ca58cdcac720cedfa9b",
       "version_major": 2,
       "version_minor": 0
      },
      "text/plain": [
       "Output()"
      ]
     },
     "metadata": {},
     "output_type": "display_data"
    }
   ],
   "source": [
    "import ipywidgets as widgets\n",
    "\n",
    "ignition = widgets.ToggleButton(\n",
    "    value=False,\n",
    "    description='Iniciar Launch',\n",
    "    button_style='success',\n",
    "    tooltip='Engage your Launch',\n",
    "    icon='rocket'\n",
    ")\n",
    "\n",
    "output = widgets.Output()\n",
    "\n",
    "display(ignition, output)\n",
    "\n",
    "def on_value_change(change):\n",
    "    with output:\n",
    "        if change['new'] == True:\n",
    "            print(\"Nave Iniciada!\")\n",
    "        else:   \n",
    "            print(\"Nave Detenida\")\n",
    "\n",
    "ignition.observe(on_value_change, names='value')"
   ]
  },
  {
   "cell_type": "markdown",
   "metadata": {},
   "source": [
    "## Ejercicio 2: Usar comandos avanzados"
   ]
  },
  {
   "cell_type": "code",
   "execution_count": 3,
   "metadata": {},
   "outputs": [],
   "source": [
    "# pip install matplotlib\n",
    "# pip install numpy"
   ]
  },
  {
   "cell_type": "markdown",
   "metadata": {},
   "source": [
    "## Niveles de Oxígeno\n",
    "Muestra diez minutos de niveles de oxígeno en tu nave."
   ]
  },
  {
   "cell_type": "code",
   "execution_count": 4,
   "metadata": {},
   "outputs": [
    {
     "data": {
      "image/png": "[encoded data removed]",
      "text/plain": [
       "<Figure size 432x288 with 1 Axes>"
      ]
     },
     "metadata": {
      "needs_background": "light"
     },
     "output_type": "display_data"
    }
   ],
   "source": [
    "import numpy as np\n",
    "import matplotlib.pyplot as plt\n",
    "data = np.random.default_rng(12345)\n",
    "oxy_nums = data.integers(low=0, high=10, size=10)\n",
    "\n",
    "plt.bar(range(len(oxy_nums)), oxy_nums)\n",
    "plt.show()"
   ]
  },
  {
   "cell_type": "markdown",
   "metadata": {},
   "source": [
    "## Velocidad de la nave\n",
    "\n",
    "Muestra los segundos necesarios para pasar de 0 a 11200 metros por segundo, dada la aceleración de la nave en metros por segundo."
   ]
  },
  {
   "cell_type": "code",
   "execution_count": 5,
   "metadata": {},
   "outputs": [
    {
     "name": "stdout",
     "output_type": "stream",
     "text": [
      "Tiempo para alcanzar la velocidad deseada =  1142.8571428571427\n"
     ]
    }
   ],
   "source": [
    "endVelocity = 11200\n",
    "startVelocity = 0\n",
    "acceleration = 9.8\n",
    "\n",
    "time = (endVelocity - startVelocity) / acceleration\n",
    "print(\"Tiempo para alcanzar la velocidad deseada = \", time)"
   ]
  },
  {
   "cell_type": "markdown",
   "metadata": {},
   "source": [
    "# > Módulo 1 - Katas"
   ]
  },
  {
   "cell_type": "markdown",
   "metadata": {},
   "source": [
    "## Mostrar fecha de hoy"
   ]
  },
  {
   "cell_type": "code",
   "execution_count": null,
   "metadata": {},
   "outputs": [],
   "source": [
    "from datetime import date\n",
    "date.today()\n",
    "print(\"Today's date is: \", date.today())"
   ]
  },
  {
   "cell_type": "markdown",
   "metadata": {},
   "source": [
    "## Conversor entre parsecs y años luz"
   ]
  },
  {
   "cell_type": "code",
   "execution_count": null,
   "metadata": {},
   "outputs": [],
   "source": [
    "parsec = 11\n",
    "lightyears = parsec * 3.26156\n",
    "# 1 parsec equivale a 3.26156 años luz\n",
    "\n",
    "print(str(parsec) + \" parsec son \" + str(lightyears) + \" años luz\")"
   ]
  },
  {
   "cell_type": "markdown",
   "metadata": {},
   "source": [
    "# > Módulo 2 - Katas"
   ]
  },
  {
   "cell_type": "markdown",
   "metadata": {},
   "source": [
    "## (En carpeta separada)"
   ]
  },
  {
   "cell_type": "markdown",
   "metadata": {},
   "source": [
    "# > Módulo 3 - Katas"
   ]
  },
  {
   "cell_type": "code",
   "execution_count": null,
   "metadata": {},
   "outputs": [],
   "source": [
    "vel_limite = 25\n",
    "vel_asteroide = 49\n",
    "\n",
    "if vel_asteroide >= vel_limite:\n",
    "  print('Un asteroide se acerca. Viaja a una velocidad de', vel_asteroide, 'km/s. ¡ADVERTENCIA!')\n",
    "else:\n",
    "  print('Un asteroide se acerca, su velocidad (', vel_asteroide, ') no representa peligro.')"
   ]
  },
  {
   "cell_type": "code",
   "execution_count": null,
   "metadata": {},
   "outputs": [],
   "source": [
    "vel_min = 20\n",
    "vel_asteroide = 19\n",
    "\n",
    "if vel_asteroide >= vel_limite:\n",
    "  print('¡Atención! Busquen en el cielo un rayo de luz. ¡Un asteroide se dirige a la tierra ahora a una velocidad de', vel_asteroide, 'km/s!')\n",
    "elif vel_asteroide < vel_limite:\n",
    "  print('La velocidad del asteroide es muy baja, no representa peligro.')\n",
    "else:\n",
    "  print('ERROR')"
   ]
  },
  {
   "cell_type": "code",
   "execution_count": null,
   "metadata": {},
   "outputs": [],
   "source": [
    "vel_rayo_luz = 20\n",
    "vel_advertencia = 25\n",
    "vel_asteroide = 50 # TEST\n",
    "dim_min = 25\n",
    "dim_max = 1000\n",
    "dim_asteroide = 300 # TEST\n",
    "\n",
    "if vel_asteroide >= vel_advertencia:\n",
    "  if dim_asteroide < dim_min:\n",
    "    print('La velocidad del asteroide es de', vel_asteroide,'km/s. ADVERTENCIA')\n",
    "    print('El asteroide se desintegrará ya que su dimensión es de', dim_asteroide)\n",
    "  elif dim_asteroide >= dim_min and dim_asteroide <= dim_max:\n",
    "    print('La velocidad del asteroide es de', vel_asteroide,'km/s. ADVERTENCIA')\n",
    "    print('El asteroide tiene una dimensión de', dim_asteroide, 'metros, tendrá impacto en la Tierra generando daños')\n",
    "elif vel_asteroide >= vel_rayo_luz:\n",
    "  if dim_asteroide < dim_min:\n",
    "    print('La velocidad del asteroide es de', vel_asteroide,'km/s. Podran verse rayos de luz en el cielo!')\n",
    "    print('El asteroide se desintegrará ya que su dimensión es de', dim_asteroide)\n",
    "  elif dim_asteroide >= dim_min and dim_asteroide <= dim_max:\n",
    "    print('La velocidad del asteroide es de', vel_asteroide,'km/s. Podran verse rayos de luz en el cielo!')\n",
    "    print('El asteroide tiene una dimensión de', dim_asteroide, 'metros, tendrá impacto en la Tierra generando daños')\n",
    "elif vel_asteroide < vel_rayo_luz:\n",
    "  if dim_asteroide < dim_min:\n",
    "    print('La velocidad del asteroide es de', vel_asteroide,'km/s. No representa peligro.')\n",
    "    print('El asteroide se desintegrará ya que su dimensión es de', dim_asteroide)\n",
    "  elif dim_asteroide >= dim_min and dim_asteroide <= dim_max:\n",
    "    print('La velocidad del asteroide es de', vel_asteroide,'km/s. No representa peligro.')\n",
    "    print('El asteroide tiene una dimensión de', dim_asteroide, 'metros, tendrá impacto en la Tierra generando daños')\n",
    "else:\n",
    "  print('ERROR')"
   ]
  },
  {
   "cell_type": "markdown",
   "metadata": {},
   "source": [
    "# > Módulo 4 - Katas"
   ]
  },
  {
   "cell_type": "markdown",
   "metadata": {},
   "source": [
    "## Ejercicio 1 - Transformar strings"
   ]
  },
  {
   "cell_type": "code",
   "execution_count": null,
   "metadata": {},
   "outputs": [],
   "source": [
    "text = \"\"\"Interesting facts about the Moon. The Moon is Earth's only satellite. There are several interesting \n",
    "facts about the Moon and how it affects life here on Earth. \n",
    "On average, the Moon moves 4cm away from the Earth every year. This yearly drift is not significant enough \n",
    "to cause immediate effects on Earts. The highest daylight temperature of the Moon is 127 C.\"\"\"\n",
    "\n",
    "# Dividir texto en oraciones\n",
    "text_list = text.split('. ')\n",
    "# print(text_list)\n",
    "\n",
    "# Determinar si hay las palabras clave\n",
    "text.find('average')\n",
    "text.find('temperature')\n",
    "text.find('distance')\n",
    "\n",
    "# Palabras clave\n",
    "key_words = [\"average\", \"temperature\", \"distance\"]\n",
    "\n",
    "# for loop\n",
    "for phrase in text_list:\n",
    "  for keyword in key_words:\n",
    "    if keyword in phrase:\n",
    "      print(phrase)\n",
    "      break\n",
    "\n",
    "# Reemplazar C por Celcius\n",
    "for phrase in text_list:\n",
    "  print(phrase.replace('C', 'Celcius'))"
   ]
  },
  {
   "cell_type": "markdown",
   "metadata": {},
   "source": [
    "## Ejercicio 2"
   ]
  },
  {
   "cell_type": "code",
   "execution_count": null,
   "metadata": {},
   "outputs": [],
   "source": [
    "# Variables\n",
    "\n",
    "planeta = 'Marte '\n",
    "gravedad  = 0.00143\n",
    "nombre = 'Ganímedes'\n",
    "\n",
    "# Crear título\n",
    "title = f'Datos de gravedad sobre {nombre}'\n",
    "\n",
    "# Plantilla\n",
    "hechos = f\"\"\"{'-'*80} \n",
    "Nombre del planeta: {planeta} \n",
    "Gravedad en {nombre}: {gravedad * 1000} m/s2 \n",
    "\"\"\"\n",
    "\n",
    "#Unir ambos strings\n",
    "template = f\"\"\"{title.title()} \n",
    "{hechos} \n",
    "\"\"\" \n",
    "print(hechos)\n",
    "\n",
    "# Testing\n",
    "\n",
    "planeta = 'Marte '\n",
    "gravedad  = 0.00143\n",
    "nombre = 'Ganímedes'\n",
    "\n",
    "print(hechos)\n",
    "\n",
    "new_template = \"\"\"\n",
    "Datos de Gravedad sobre: {nombre}\n",
    "-------------------------------------------------------------------------------\n",
    "Nombre del planeta: {planeta}\n",
    "Gravedad en {nombre}: {gravedad} m/s2\n",
    "\"\"\"\n",
    "print(new_template.format(nombre=nombre, planeta=planeta, gravedad=gravedad))\n",
    "\n",
    "print(new_template.format(nombre=nombre, planeta=planeta, gravedad=gravedad*1000))"
   ]
  },
  {
   "cell_type": "markdown",
   "metadata": {},
   "source": [
    "# > Módulo 5 - Kata"
   ]
  },
  {
   "cell_type": "markdown",
   "metadata": {},
   "source": [
    "## Ejercicio 1"
   ]
  },
  {
   "cell_type": "code",
   "execution_count": null,
   "metadata": {},
   "outputs": [],
   "source": [
    "earth_dist_km = 149597870\n",
    "# earth_dist_miles = earth_dist_km * 0.621\n",
    "jupiter_dist_km = 778547200\n",
    "# jupiter_dist_miles = jupiter_dist_km * 0.621\n",
    "\n",
    "# Calcular la distancia entre planetas\n",
    "\n",
    "result_km = jupiter_dist_km - earth_dist_km\n",
    "result_miles = result_km * 0.621\n",
    "\n",
    "print(result_km)\n",
    "print(result_miles)"
   ]
  },
  {
   "cell_type": "markdown",
   "metadata": {},
   "source": [
    "## Ejercicio 2"
   ]
  },
  {
   "cell_type": "code",
   "execution_count": 6,
   "metadata": {},
   "outputs": [
    {
     "name": "stdout",
     "output_type": "stream",
     "text": [
      "-700\n",
      "434.7\n"
     ]
    }
   ],
   "source": [
    "# Almacenar las entradas del usuario\n",
    "\n",
    "first_planet = input('Introduzca la distancia del sol para el primer planeta en KM')\n",
    "second_planet = input('Introduzca la distancia desde el sol para el segundo planeta en KM')\n",
    "\n",
    "# Convierte las cadenas de ambos planetas a números enteros\n",
    "\n",
    "first_planet = int(first_planet)\n",
    "second_planet = int(second_planet)\n",
    "\n",
    "# Realizar el cálculo y determinar el valor absoluto\n",
    "distance_km = second_planet - first_planet\n",
    "print(distance_km)\n",
    "\n",
    "# Convertir de KM a Millas\n",
    "distance_mi = distance_km * 0.621\n",
    "print(abs(distance_mi))"
   ]
  },
  {
   "cell_type": "markdown",
   "metadata": {},
   "source": [
    "# > Módulo 6 - Kata"
   ]
  },
  {
   "cell_type": "markdown",
   "metadata": {},
   "source": [
    "## Ejercicio 1"
   ]
  },
  {
   "cell_type": "code",
   "execution_count": null,
   "metadata": {},
   "outputs": [],
   "source": [
    "planets = ['Mercury', 'Venus', 'Earth', 'Mars', 'Jupiter', 'Saturn', 'Uranus', 'Neptune']\n",
    "print(planets)\n",
    "\n",
    "planets.append('Plutón')\n",
    "print(planets)\n",
    "\n",
    "num_of_planets = len(planets)\n",
    "print(f'Number of planets: {num_of_planets}')"
   ]
  },
  {
   "cell_type": "markdown",
   "metadata": {},
   "source": [
    "## Ejercicio 2"
   ]
  },
  {
   "cell_type": "code",
   "execution_count": null,
   "metadata": {},
   "outputs": [],
   "source": [
    "# Solicitar al usuario un nombre de planeta\n",
    "user_planet = input('Escribe el nombre del planeta: ')\n",
    "\n",
    "# Busca el planeta en la lista\n",
    "\n",
    "planet_index = planets.index(user_planet)\n",
    "\n",
    "# Muestra los planetas más cercanos al sol\n",
    "\n",
    "print('Los planetas mas cercanos a: ' + user_planet)\n",
    "print(planets[0:planet_index])\n",
    "\n",
    "# Muestra los planetas más lejanos al sol\n",
    "\n",
    "print('Los planetas mas lejanos de: ' + user_planet)\n",
    "print(planets[planet_index + 1:])"
   ]
  }
 ],
 "metadata": {
  "interpreter": {
   "hash": "aee8b7b246df8f9039afb4144a1f6fd8d2ca17a180786b69acc140d282b71a49"
  },
  "kernelspec": {
   "display_name": "Python 3.10.1 64-bit",
   "language": "python",
   "name": "python3"
  },
  "language_info": {
   "codemirror_mode": {
    "name": "ipython",
    "version": 3
   },
   "file_extension": ".py",
   "mimetype": "text/x-python",
   "name": "python",
   "nbconvert_exporter": "python",
   "pygments_lexer": "ipython3",
   "version": "3.10.1"
  },
  "orig_nbformat": 4
 },
 "nbformat": 4,
 "nbformat_minor": 2
}
